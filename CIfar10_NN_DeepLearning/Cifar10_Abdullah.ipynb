{
  "nbformat": 4,
  "nbformat_minor": 0,
  "metadata": {
    "colab": {
      "provenance": []
    },
    "kernelspec": {
      "name": "python3",
      "display_name": "Python 3"
    },
    "language_info": {
      "name": "python"
    },
    "accelerator": "GPU",
    "gpuClass": "standard"
  },
  "cells": [
    {
      "cell_type": "code",
      "source": [
        "import numpy as np\n",
        "from tensorflow import keras\n",
        "import tensorflow as tf"
      ],
      "metadata": {
        "id": "Tr5QboSZ3l_D"
      },
      "execution_count": 1,
      "outputs": []
    },
    {
      "cell_type": "code",
      "source": [
        "mst = tf.keras.datasets.cifar10\n",
        "(X_train,y_train),(X_test,y_test) = mst.load_data()\n",
        "print(X_train.shape)\n",
        "print(X_train.shape)"
      ],
      "metadata": {
        "colab": {
          "base_uri": "https://localhost:8080/"
        },
        "outputId": "897af4f6-8227-4fd2-d723-baae2d9982b4",
        "id": "gUAvLyid3l_G"
      },
      "execution_count": 2,
      "outputs": [
        {
          "output_type": "stream",
          "name": "stdout",
          "text": [
            "(50000, 32, 32, 3)\n",
            "(50000, 32, 32, 3)\n"
          ]
        }
      ]
    },
    {
      "cell_type": "code",
      "source": [
        "# X_train = X_train.reshape((-1,3072))\n",
        "# X_test = X_test.reshape((-1,3072))"
      ],
      "metadata": {
        "id": "y1ldsB_w3l_J"
      },
      "execution_count": 3,
      "outputs": []
    },
    {
      "cell_type": "code",
      "source": [
        "X_train = X_train/255\n",
        "X_test = X_test/255"
      ],
      "metadata": {
        "id": "z0gjKfTG3l_K"
      },
      "execution_count": 4,
      "outputs": []
    },
    {
      "cell_type": "code",
      "source": [
        "X_train.shape"
      ],
      "metadata": {
        "colab": {
          "base_uri": "https://localhost:8080/"
        },
        "outputId": "67e166f0-e206-4671-ad53-882ee04fe9c1",
        "id": "pVyVMBeC3l_L"
      },
      "execution_count": 5,
      "outputs": [
        {
          "output_type": "execute_result",
          "data": {
            "text/plain": [
              "(50000, 32, 32, 3)"
            ]
          },
          "metadata": {},
          "execution_count": 5
        }
      ]
    },
    {
      "cell_type": "code",
      "source": [
        "from keras.datasets import cifar10\n",
        "from keras.utils import to_categorical\n",
        "from keras.models import Sequential\n",
        "from keras.layers import Conv2D\n",
        "from keras.layers import MaxPooling2D\n",
        "from keras.layers import Dense\n",
        "from keras.layers import Flatten\n",
        "from keras.optimizers import SGD\n",
        "from keras.preprocessing.image import ImageDataGenerator\n",
        "from keras.layers import Dropout\n",
        "from keras.layers import BatchNormalization"
      ],
      "metadata": {
        "id": "0E8l_xtRCJMY"
      },
      "execution_count": 6,
      "outputs": []
    },
    {
      "cell_type": "code",
      "source": [
        "model = keras.Sequential()\n",
        "\n",
        "# model.add(keras.layers.Dense(512, input_shape=(3072,), activation=\"relu\"))\n",
        "# model.add(keras.layers.Dense(256,activation='relu'))\n",
        "# model.add(keras.layers.Dense(10,activation='softmax'))\n",
        "#-------------------------------------------------------\n",
        "model.add(Conv2D(32, (3, 3), activation='relu', kernel_initializer='he_uniform', padding='same', input_shape=(32, 32, 3)))\n",
        "model.add(BatchNormalization())\n",
        "model.add(Conv2D(32, (3, 3), activation='relu', kernel_initializer='he_uniform', padding='same'))\n",
        "model.add(BatchNormalization())\n",
        "model.add(MaxPooling2D((2, 2)))\n",
        "model.add(Dropout(0.2))\n",
        "model.add(Conv2D(64, (3, 3), activation='relu', kernel_initializer='he_uniform', padding='same'))\n",
        "model.add(BatchNormalization())\n",
        "model.add(Conv2D(64, (3, 3), activation='relu', kernel_initializer='he_uniform', padding='same'))\n",
        "model.add(BatchNormalization())\n",
        "model.add(MaxPooling2D((2, 2)))\n",
        "model.add(Dropout(0.3))\n",
        "model.add(Conv2D(128, (3, 3), activation='relu', kernel_initializer='he_uniform', padding='same'))\n",
        "model.add(BatchNormalization())\n",
        "model.add(Conv2D(128, (3, 3), activation='relu', kernel_initializer='he_uniform', padding='same'))\n",
        "model.add(BatchNormalization())\n",
        "model.add(MaxPooling2D((2, 2)))\n",
        "model.add(Dropout(0.4))\n",
        "model.add(Flatten())\n",
        "model.add(Dense(128, activation='relu', kernel_initializer='he_uniform'))\n",
        "model.add(BatchNormalization())\n",
        "model.add(Dropout(0.5))\n",
        "model.add(Dense(10, activation='softmax'))\n",
        "#-------------------------------------------------------\n",
        "model.compile(loss='sparse_categorical_crossentropy', optimizer='sgd', metrics='accuracy')\n",
        "\n",
        "model.summary()"
      ],
      "metadata": {
        "colab": {
          "base_uri": "https://localhost:8080/"
        },
        "outputId": "2f450978-e93a-4af0-e238-838792822f92",
        "id": "qIsqHHhG3l_N"
      },
      "execution_count": 7,
      "outputs": [
        {
          "output_type": "stream",
          "name": "stdout",
          "text": [
            "Model: \"sequential\"\n",
            "_________________________________________________________________\n",
            " Layer (type)                Output Shape              Param #   \n",
            "=================================================================\n",
            " conv2d (Conv2D)             (None, 32, 32, 32)        896       \n",
            "                                                                 \n",
            " batch_normalization (BatchN  (None, 32, 32, 32)       128       \n",
            " ormalization)                                                   \n",
            "                                                                 \n",
            " conv2d_1 (Conv2D)           (None, 32, 32, 32)        9248      \n",
            "                                                                 \n",
            " batch_normalization_1 (Batc  (None, 32, 32, 32)       128       \n",
            " hNormalization)                                                 \n",
            "                                                                 \n",
            " max_pooling2d (MaxPooling2D  (None, 16, 16, 32)       0         \n",
            " )                                                               \n",
            "                                                                 \n",
            " dropout (Dropout)           (None, 16, 16, 32)        0         \n",
            "                                                                 \n",
            " conv2d_2 (Conv2D)           (None, 16, 16, 64)        18496     \n",
            "                                                                 \n",
            " batch_normalization_2 (Batc  (None, 16, 16, 64)       256       \n",
            " hNormalization)                                                 \n",
            "                                                                 \n",
            " conv2d_3 (Conv2D)           (None, 16, 16, 64)        36928     \n",
            "                                                                 \n",
            " batch_normalization_3 (Batc  (None, 16, 16, 64)       256       \n",
            " hNormalization)                                                 \n",
            "                                                                 \n",
            " max_pooling2d_1 (MaxPooling  (None, 8, 8, 64)         0         \n",
            " 2D)                                                             \n",
            "                                                                 \n",
            " dropout_1 (Dropout)         (None, 8, 8, 64)          0         \n",
            "                                                                 \n",
            " conv2d_4 (Conv2D)           (None, 8, 8, 128)         73856     \n",
            "                                                                 \n",
            " batch_normalization_4 (Batc  (None, 8, 8, 128)        512       \n",
            " hNormalization)                                                 \n",
            "                                                                 \n",
            " conv2d_5 (Conv2D)           (None, 8, 8, 128)         147584    \n",
            "                                                                 \n",
            " batch_normalization_5 (Batc  (None, 8, 8, 128)        512       \n",
            " hNormalization)                                                 \n",
            "                                                                 \n",
            " max_pooling2d_2 (MaxPooling  (None, 4, 4, 128)        0         \n",
            " 2D)                                                             \n",
            "                                                                 \n",
            " dropout_2 (Dropout)         (None, 4, 4, 128)         0         \n",
            "                                                                 \n",
            " flatten (Flatten)           (None, 2048)              0         \n",
            "                                                                 \n",
            " dense (Dense)               (None, 128)               262272    \n",
            "                                                                 \n",
            " batch_normalization_6 (Batc  (None, 128)              512       \n",
            " hNormalization)                                                 \n",
            "                                                                 \n",
            " dropout_3 (Dropout)         (None, 128)               0         \n",
            "                                                                 \n",
            " dense_1 (Dense)             (None, 10)                1290      \n",
            "                                                                 \n",
            "=================================================================\n",
            "Total params: 552,874\n",
            "Trainable params: 551,722\n",
            "Non-trainable params: 1,152\n",
            "_________________________________________________________________\n"
          ]
        }
      ]
    },
    {
      "cell_type": "code",
      "source": [
        "results = model.fit(X_train,y_train,shuffle=True,epochs=100,batch_size=64,validation_data =(X_test,y_test))"
      ],
      "metadata": {
        "colab": {
          "base_uri": "https://localhost:8080/"
        },
        "outputId": "7e1e2859-da20-47b7-a778-43e2f438e9ba",
        "id": "_n7cWvr23l_P"
      },
      "execution_count": 8,
      "outputs": [
        {
          "output_type": "stream",
          "name": "stdout",
          "text": [
            "Epoch 1/100\n",
            "782/782 [==============================] - 20s 11ms/step - loss: 2.0132 - accuracy: 0.3270 - val_loss: 1.6978 - val_accuracy: 0.3971\n",
            "Epoch 2/100\n",
            "782/782 [==============================] - 8s 10ms/step - loss: 1.5239 - accuracy: 0.4422 - val_loss: 1.5203 - val_accuracy: 0.4550\n",
            "Epoch 3/100\n",
            "782/782 [==============================] - 8s 10ms/step - loss: 1.3827 - accuracy: 0.4990 - val_loss: 1.3274 - val_accuracy: 0.5225\n",
            "Epoch 4/100\n",
            "782/782 [==============================] - 8s 10ms/step - loss: 1.2866 - accuracy: 0.5347 - val_loss: 1.2007 - val_accuracy: 0.5637\n",
            "Epoch 5/100\n",
            "782/782 [==============================] - 10s 13ms/step - loss: 1.2037 - accuracy: 0.5664 - val_loss: 1.2541 - val_accuracy: 0.5546\n",
            "Epoch 6/100\n",
            "782/782 [==============================] - 8s 10ms/step - loss: 1.1556 - accuracy: 0.5860 - val_loss: 1.1428 - val_accuracy: 0.5930\n",
            "Epoch 7/100\n",
            "782/782 [==============================] - 9s 11ms/step - loss: 1.1114 - accuracy: 0.6035 - val_loss: 1.0210 - val_accuracy: 0.6316\n",
            "Epoch 8/100\n",
            "782/782 [==============================] - 8s 10ms/step - loss: 1.0699 - accuracy: 0.6180 - val_loss: 1.0295 - val_accuracy: 0.6379\n",
            "Epoch 9/100\n",
            "782/782 [==============================] - 8s 10ms/step - loss: 1.0420 - accuracy: 0.6285 - val_loss: 1.0326 - val_accuracy: 0.6249\n",
            "Epoch 10/100\n",
            "782/782 [==============================] - 8s 10ms/step - loss: 1.0076 - accuracy: 0.6399 - val_loss: 0.9760 - val_accuracy: 0.6486\n",
            "Epoch 11/100\n",
            "782/782 [==============================] - 9s 11ms/step - loss: 0.9789 - accuracy: 0.6527 - val_loss: 1.0396 - val_accuracy: 0.6325\n",
            "Epoch 12/100\n",
            "782/782 [==============================] - 8s 10ms/step - loss: 0.9520 - accuracy: 0.6617 - val_loss: 0.9614 - val_accuracy: 0.6604\n",
            "Epoch 13/100\n",
            "782/782 [==============================] - 8s 10ms/step - loss: 0.9370 - accuracy: 0.6709 - val_loss: 0.9883 - val_accuracy: 0.6568\n",
            "Epoch 14/100\n",
            "782/782 [==============================] - 8s 11ms/step - loss: 0.9131 - accuracy: 0.6776 - val_loss: 0.9221 - val_accuracy: 0.6732\n",
            "Epoch 15/100\n",
            "782/782 [==============================] - 8s 10ms/step - loss: 0.8928 - accuracy: 0.6833 - val_loss: 0.8754 - val_accuracy: 0.6881\n",
            "Epoch 16/100\n",
            "782/782 [==============================] - 8s 10ms/step - loss: 0.8800 - accuracy: 0.6901 - val_loss: 0.8598 - val_accuracy: 0.6973\n",
            "Epoch 17/100\n",
            "782/782 [==============================] - 9s 11ms/step - loss: 0.8595 - accuracy: 0.6975 - val_loss: 0.8661 - val_accuracy: 0.6973\n",
            "Epoch 18/100\n",
            "782/782 [==============================] - 8s 10ms/step - loss: 0.8436 - accuracy: 0.7034 - val_loss: 0.7872 - val_accuracy: 0.7216\n",
            "Epoch 19/100\n",
            "782/782 [==============================] - 8s 10ms/step - loss: 0.8270 - accuracy: 0.7093 - val_loss: 0.7519 - val_accuracy: 0.7352\n",
            "Epoch 20/100\n",
            "782/782 [==============================] - 9s 11ms/step - loss: 0.8063 - accuracy: 0.7159 - val_loss: 0.9386 - val_accuracy: 0.6741\n",
            "Epoch 21/100\n",
            "782/782 [==============================] - 8s 10ms/step - loss: 0.8023 - accuracy: 0.7171 - val_loss: 0.7522 - val_accuracy: 0.7378\n",
            "Epoch 22/100\n",
            "782/782 [==============================] - 8s 10ms/step - loss: 0.7829 - accuracy: 0.7240 - val_loss: 0.7754 - val_accuracy: 0.7259\n",
            "Epoch 23/100\n",
            "782/782 [==============================] - 8s 11ms/step - loss: 0.7780 - accuracy: 0.7262 - val_loss: 0.7370 - val_accuracy: 0.7392\n",
            "Epoch 24/100\n",
            "782/782 [==============================] - 8s 10ms/step - loss: 0.7638 - accuracy: 0.7342 - val_loss: 0.7227 - val_accuracy: 0.7426\n",
            "Epoch 25/100\n",
            "782/782 [==============================] - 8s 11ms/step - loss: 0.7519 - accuracy: 0.7367 - val_loss: 0.7430 - val_accuracy: 0.7390\n",
            "Epoch 26/100\n",
            "782/782 [==============================] - 8s 10ms/step - loss: 0.7463 - accuracy: 0.7372 - val_loss: 0.7729 - val_accuracy: 0.7274\n",
            "Epoch 27/100\n",
            "782/782 [==============================] - 8s 10ms/step - loss: 0.7357 - accuracy: 0.7396 - val_loss: 0.7190 - val_accuracy: 0.7446\n",
            "Epoch 28/100\n",
            "782/782 [==============================] - 8s 11ms/step - loss: 0.7210 - accuracy: 0.7483 - val_loss: 0.7454 - val_accuracy: 0.7354\n",
            "Epoch 29/100\n",
            "782/782 [==============================] - 8s 11ms/step - loss: 0.7160 - accuracy: 0.7485 - val_loss: 0.6733 - val_accuracy: 0.7638\n",
            "Epoch 30/100\n",
            "782/782 [==============================] - 8s 10ms/step - loss: 0.7051 - accuracy: 0.7538 - val_loss: 0.7057 - val_accuracy: 0.7562\n",
            "Epoch 31/100\n",
            "782/782 [==============================] - 8s 10ms/step - loss: 0.6966 - accuracy: 0.7548 - val_loss: 0.7143 - val_accuracy: 0.7497\n",
            "Epoch 32/100\n",
            "782/782 [==============================] - 8s 10ms/step - loss: 0.6888 - accuracy: 0.7595 - val_loss: 0.6752 - val_accuracy: 0.7671\n",
            "Epoch 33/100\n",
            "782/782 [==============================] - 8s 10ms/step - loss: 0.6767 - accuracy: 0.7627 - val_loss: 0.6368 - val_accuracy: 0.7749\n",
            "Epoch 34/100\n",
            "782/782 [==============================] - 8s 10ms/step - loss: 0.6679 - accuracy: 0.7666 - val_loss: 0.6804 - val_accuracy: 0.7609\n",
            "Epoch 35/100\n",
            "782/782 [==============================] - 8s 10ms/step - loss: 0.6641 - accuracy: 0.7680 - val_loss: 0.6252 - val_accuracy: 0.7801\n",
            "Epoch 36/100\n",
            "782/782 [==============================] - 8s 10ms/step - loss: 0.6593 - accuracy: 0.7698 - val_loss: 0.6483 - val_accuracy: 0.7719\n",
            "Epoch 37/100\n",
            "782/782 [==============================] - 8s 11ms/step - loss: 0.6474 - accuracy: 0.7751 - val_loss: 0.6918 - val_accuracy: 0.7550\n",
            "Epoch 38/100\n",
            "782/782 [==============================] - 8s 10ms/step - loss: 0.6383 - accuracy: 0.7752 - val_loss: 0.6464 - val_accuracy: 0.7735\n",
            "Epoch 39/100\n",
            "782/782 [==============================] - 8s 10ms/step - loss: 0.6337 - accuracy: 0.7780 - val_loss: 0.6276 - val_accuracy: 0.7803\n",
            "Epoch 40/100\n",
            "782/782 [==============================] - 8s 10ms/step - loss: 0.6294 - accuracy: 0.7799 - val_loss: 0.6133 - val_accuracy: 0.7849\n",
            "Epoch 41/100\n",
            "782/782 [==============================] - 8s 10ms/step - loss: 0.6211 - accuracy: 0.7846 - val_loss: 0.5976 - val_accuracy: 0.7920\n",
            "Epoch 42/100\n",
            "782/782 [==============================] - 8s 10ms/step - loss: 0.6135 - accuracy: 0.7856 - val_loss: 0.6659 - val_accuracy: 0.7693\n",
            "Epoch 43/100\n",
            "782/782 [==============================] - 8s 11ms/step - loss: 0.6089 - accuracy: 0.7890 - val_loss: 0.7454 - val_accuracy: 0.7493\n",
            "Epoch 44/100\n",
            "782/782 [==============================] - 8s 10ms/step - loss: 0.6027 - accuracy: 0.7883 - val_loss: 0.6598 - val_accuracy: 0.7709\n",
            "Epoch 45/100\n",
            "782/782 [==============================] - 8s 11ms/step - loss: 0.5969 - accuracy: 0.7895 - val_loss: 0.6487 - val_accuracy: 0.7775\n",
            "Epoch 46/100\n",
            "782/782 [==============================] - 8s 10ms/step - loss: 0.5863 - accuracy: 0.7950 - val_loss: 0.5911 - val_accuracy: 0.7974\n",
            "Epoch 47/100\n",
            "782/782 [==============================] - 8s 10ms/step - loss: 0.5854 - accuracy: 0.7963 - val_loss: 0.5928 - val_accuracy: 0.7931\n",
            "Epoch 48/100\n",
            "782/782 [==============================] - 8s 10ms/step - loss: 0.5811 - accuracy: 0.7991 - val_loss: 0.5868 - val_accuracy: 0.7954\n",
            "Epoch 49/100\n",
            "782/782 [==============================] - 8s 10ms/step - loss: 0.5746 - accuracy: 0.8000 - val_loss: 0.6812 - val_accuracy: 0.7690\n",
            "Epoch 50/100\n",
            "782/782 [==============================] - 8s 10ms/step - loss: 0.5648 - accuracy: 0.8024 - val_loss: 0.6328 - val_accuracy: 0.7837\n",
            "Epoch 51/100\n",
            "782/782 [==============================] - 8s 11ms/step - loss: 0.5612 - accuracy: 0.8033 - val_loss: 0.6001 - val_accuracy: 0.7943\n",
            "Epoch 52/100\n",
            "782/782 [==============================] - 8s 10ms/step - loss: 0.5546 - accuracy: 0.8055 - val_loss: 0.6370 - val_accuracy: 0.7777\n",
            "Epoch 53/100\n",
            "782/782 [==============================] - 8s 10ms/step - loss: 0.5502 - accuracy: 0.8061 - val_loss: 0.5722 - val_accuracy: 0.8043\n",
            "Epoch 54/100\n",
            "782/782 [==============================] - 8s 10ms/step - loss: 0.5434 - accuracy: 0.8105 - val_loss: 0.5590 - val_accuracy: 0.8091\n",
            "Epoch 55/100\n",
            "782/782 [==============================] - 8s 11ms/step - loss: 0.5394 - accuracy: 0.8100 - val_loss: 0.5480 - val_accuracy: 0.8114\n",
            "Epoch 56/100\n",
            "782/782 [==============================] - 8s 10ms/step - loss: 0.5375 - accuracy: 0.8137 - val_loss: 0.5986 - val_accuracy: 0.7977\n",
            "Epoch 57/100\n",
            "782/782 [==============================] - 8s 11ms/step - loss: 0.5292 - accuracy: 0.8146 - val_loss: 0.5601 - val_accuracy: 0.8071\n",
            "Epoch 58/100\n",
            "782/782 [==============================] - 8s 11ms/step - loss: 0.5221 - accuracy: 0.8195 - val_loss: 0.5456 - val_accuracy: 0.8126\n",
            "Epoch 59/100\n",
            "782/782 [==============================] - 8s 10ms/step - loss: 0.5204 - accuracy: 0.8193 - val_loss: 0.5714 - val_accuracy: 0.8055\n",
            "Epoch 60/100\n",
            "782/782 [==============================] - 8s 11ms/step - loss: 0.5108 - accuracy: 0.8214 - val_loss: 0.5700 - val_accuracy: 0.8059\n",
            "Epoch 61/100\n",
            "782/782 [==============================] - 8s 11ms/step - loss: 0.5092 - accuracy: 0.8231 - val_loss: 0.5750 - val_accuracy: 0.8108\n",
            "Epoch 62/100\n",
            "782/782 [==============================] - 8s 10ms/step - loss: 0.5037 - accuracy: 0.8243 - val_loss: 0.5778 - val_accuracy: 0.8043\n",
            "Epoch 63/100\n",
            "782/782 [==============================] - 8s 11ms/step - loss: 0.4954 - accuracy: 0.8284 - val_loss: 0.5559 - val_accuracy: 0.8131\n",
            "Epoch 64/100\n",
            "782/782 [==============================] - 8s 10ms/step - loss: 0.4961 - accuracy: 0.8268 - val_loss: 0.5620 - val_accuracy: 0.8145\n",
            "Epoch 65/100\n",
            "782/782 [==============================] - 8s 10ms/step - loss: 0.4906 - accuracy: 0.8297 - val_loss: 0.5772 - val_accuracy: 0.8051\n",
            "Epoch 66/100\n",
            "782/782 [==============================] - 8s 10ms/step - loss: 0.4835 - accuracy: 0.8332 - val_loss: 0.5585 - val_accuracy: 0.8135\n",
            "Epoch 67/100\n",
            "782/782 [==============================] - 8s 10ms/step - loss: 0.4817 - accuracy: 0.8326 - val_loss: 0.5462 - val_accuracy: 0.8173\n",
            "Epoch 68/100\n",
            "782/782 [==============================] - 8s 10ms/step - loss: 0.4816 - accuracy: 0.8323 - val_loss: 0.5292 - val_accuracy: 0.8217\n",
            "Epoch 69/100\n",
            "782/782 [==============================] - 8s 11ms/step - loss: 0.4745 - accuracy: 0.8347 - val_loss: 0.5128 - val_accuracy: 0.8237\n",
            "Epoch 70/100\n",
            "782/782 [==============================] - 8s 10ms/step - loss: 0.4640 - accuracy: 0.8367 - val_loss: 0.5390 - val_accuracy: 0.8195\n",
            "Epoch 71/100\n",
            "782/782 [==============================] - 8s 10ms/step - loss: 0.4652 - accuracy: 0.8372 - val_loss: 0.5611 - val_accuracy: 0.8122\n",
            "Epoch 72/100\n",
            "782/782 [==============================] - 8s 10ms/step - loss: 0.4675 - accuracy: 0.8369 - val_loss: 0.5258 - val_accuracy: 0.8241\n",
            "Epoch 73/100\n",
            "782/782 [==============================] - 8s 10ms/step - loss: 0.4576 - accuracy: 0.8420 - val_loss: 0.5648 - val_accuracy: 0.8111\n",
            "Epoch 74/100\n",
            "782/782 [==============================] - 8s 10ms/step - loss: 0.4518 - accuracy: 0.8431 - val_loss: 0.5381 - val_accuracy: 0.8249\n",
            "Epoch 75/100\n",
            "782/782 [==============================] - 8s 11ms/step - loss: 0.4563 - accuracy: 0.8411 - val_loss: 0.5625 - val_accuracy: 0.8154\n",
            "Epoch 76/100\n",
            "782/782 [==============================] - 8s 10ms/step - loss: 0.4475 - accuracy: 0.8444 - val_loss: 0.5828 - val_accuracy: 0.8119\n",
            "Epoch 77/100\n",
            "782/782 [==============================] - 8s 10ms/step - loss: 0.4451 - accuracy: 0.8456 - val_loss: 0.5162 - val_accuracy: 0.8281\n",
            "Epoch 78/100\n",
            "782/782 [==============================] - 8s 11ms/step - loss: 0.4368 - accuracy: 0.8473 - val_loss: 0.5077 - val_accuracy: 0.8316\n",
            "Epoch 79/100\n",
            "782/782 [==============================] - 8s 10ms/step - loss: 0.4339 - accuracy: 0.8490 - val_loss: 0.4999 - val_accuracy: 0.8330\n",
            "Epoch 80/100\n",
            "782/782 [==============================] - 8s 10ms/step - loss: 0.4305 - accuracy: 0.8493 - val_loss: 0.5094 - val_accuracy: 0.8301\n",
            "Epoch 81/100\n",
            "782/782 [==============================] - 8s 10ms/step - loss: 0.4258 - accuracy: 0.8507 - val_loss: 0.5509 - val_accuracy: 0.8145\n",
            "Epoch 82/100\n",
            "782/782 [==============================] - 9s 11ms/step - loss: 0.4179 - accuracy: 0.8548 - val_loss: 0.5523 - val_accuracy: 0.8216\n",
            "Epoch 83/100\n",
            "782/782 [==============================] - 8s 10ms/step - loss: 0.4239 - accuracy: 0.8518 - val_loss: 0.4998 - val_accuracy: 0.8334\n",
            "Epoch 84/100\n",
            "782/782 [==============================] - 8s 11ms/step - loss: 0.4243 - accuracy: 0.8503 - val_loss: 0.5283 - val_accuracy: 0.8213\n",
            "Epoch 85/100\n",
            "782/782 [==============================] - 9s 11ms/step - loss: 0.4184 - accuracy: 0.8541 - val_loss: 0.5095 - val_accuracy: 0.8322\n",
            "Epoch 86/100\n",
            "782/782 [==============================] - 8s 10ms/step - loss: 0.4093 - accuracy: 0.8582 - val_loss: 0.4985 - val_accuracy: 0.8374\n",
            "Epoch 87/100\n",
            "782/782 [==============================] - 8s 11ms/step - loss: 0.4088 - accuracy: 0.8575 - val_loss: 0.5054 - val_accuracy: 0.8348\n",
            "Epoch 88/100\n",
            "782/782 [==============================] - 8s 10ms/step - loss: 0.4053 - accuracy: 0.8603 - val_loss: 0.4991 - val_accuracy: 0.8356\n",
            "Epoch 89/100\n",
            "782/782 [==============================] - 8s 10ms/step - loss: 0.3996 - accuracy: 0.8611 - val_loss: 0.4862 - val_accuracy: 0.8422\n",
            "Epoch 90/100\n",
            "782/782 [==============================] - 8s 10ms/step - loss: 0.3959 - accuracy: 0.8617 - val_loss: 0.5385 - val_accuracy: 0.8236\n",
            "Epoch 91/100\n",
            "782/782 [==============================] - 8s 10ms/step - loss: 0.3958 - accuracy: 0.8608 - val_loss: 0.4916 - val_accuracy: 0.8414\n",
            "Epoch 92/100\n",
            "782/782 [==============================] - 8s 10ms/step - loss: 0.3920 - accuracy: 0.8648 - val_loss: 0.4971 - val_accuracy: 0.8373\n",
            "Epoch 93/100\n",
            "782/782 [==============================] - 8s 11ms/step - loss: 0.3918 - accuracy: 0.8631 - val_loss: 0.4933 - val_accuracy: 0.8381\n",
            "Epoch 94/100\n",
            "782/782 [==============================] - 8s 10ms/step - loss: 0.3857 - accuracy: 0.8649 - val_loss: 0.4908 - val_accuracy: 0.8418\n",
            "Epoch 95/100\n",
            "782/782 [==============================] - 8s 10ms/step - loss: 0.3832 - accuracy: 0.8662 - val_loss: 0.5761 - val_accuracy: 0.8182\n",
            "Epoch 96/100\n",
            "782/782 [==============================] - 8s 11ms/step - loss: 0.3752 - accuracy: 0.8691 - val_loss: 0.5346 - val_accuracy: 0.8364\n",
            "Epoch 97/100\n",
            "782/782 [==============================] - 9s 11ms/step - loss: 0.3729 - accuracy: 0.8714 - val_loss: 0.5260 - val_accuracy: 0.8304\n",
            "Epoch 98/100\n",
            "782/782 [==============================] - 8s 10ms/step - loss: 0.3708 - accuracy: 0.8706 - val_loss: 0.4942 - val_accuracy: 0.8424\n",
            "Epoch 99/100\n",
            "782/782 [==============================] - 8s 11ms/step - loss: 0.3701 - accuracy: 0.8700 - val_loss: 0.5291 - val_accuracy: 0.8316\n",
            "Epoch 100/100\n",
            "782/782 [==============================] - 8s 11ms/step - loss: 0.3752 - accuracy: 0.8692 - val_loss: 0.4995 - val_accuracy: 0.8391\n"
          ]
        }
      ]
    },
    {
      "cell_type": "code",
      "source": [
        "import matplotlib.pyplot as plt\n",
        "plt.plot(results.history['accuracy'])\n",
        "#plt.plot(results.history['val_laccuracy'])\n",
        "plt.legend(['Training', 'Validation'])\n",
        "plt.title('Training and Validation accuracy')\n",
        "plt.xlabel('epoch')\n",
        "plt.xlabel('accuracy')"
      ],
      "metadata": {
        "colab": {
          "base_uri": "https://localhost:8080/",
          "height": 312
        },
        "outputId": "f53aa4de-c7c3-42b5-fc06-e45f57158ca5",
        "id": "bRnNqc9C3l_Q"
      },
      "execution_count": 9,
      "outputs": [
        {
          "output_type": "execute_result",
          "data": {
            "text/plain": [
              "Text(0.5, 0, 'accuracy')"
            ]
          },
          "metadata": {},
          "execution_count": 9
        },
        {
          "output_type": "display_data",
          "data": {
            "text/plain": [
              "<Figure size 432x288 with 1 Axes>"
            ],
            "image/png": "[encoded data removed]"
          },
          "metadata": {
            "needs_background": "light"
          }
        }
      ]
    },
    {
      "cell_type": "code",
      "source": [
        "plt.plot(results.history['loss'])\n",
        "plt.plot(results.history['val_loss'])\n",
        "plt.legend(['Training', 'loss'])\n",
        "plt.title('Training and Validation loss')\n",
        "plt.xlabel('epoch')\n",
        "plt.ylabel('loss')"
      ],
      "metadata": {
        "colab": {
          "base_uri": "https://localhost:8080/",
          "height": 312
        },
        "outputId": "e2304a02-2c67-4d3f-9563-a2ca5703ec40",
        "id": "R90kbRP-3l_R"
      },
      "execution_count": 10,
      "outputs": [
        {
          "output_type": "execute_result",
          "data": {
            "text/plain": [
              "Text(0, 0.5, 'loss')"
            ]
          },
          "metadata": {},
          "execution_count": 10
        },
        {
          "output_type": "display_data",
          "data": {
            "text/plain": [
              "<Figure size 432x288 with 1 Axes>"
            ],
            "image/png": "[encoded data removed]"
          },
          "metadata": {
            "needs_background": "light"
          }
        }
      ]
    }
  ]
}